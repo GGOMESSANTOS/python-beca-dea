{
  "cells": [
    {
      "cell_type": "markdown",
      "metadata": {
        "id": "GiJYHwf1p4-i"
      },
      "source": [
        "# POO & Python"
      ]
    },
    {
      "cell_type": "markdown",
      "metadata": {
        "id": "yaTH8-JZvQIl"
      },
      "source": [
        "- Vamos criar uma cópia desse colab na nossa máquina,\n",
        "- Vamos abrir esse cópia no VSCode dentro do WSL,\n",
        "- Vamos iterando o notebook, fazendo anotações e criando commits...\n"
      ]
    },
    {
      "cell_type": "markdown",
      "metadata": {
        "id": "fz5sEPyfp75D"
      },
      "source": [
        "![](https://preview.redd.it/a-coincidence-surely-v0-0zoddf5k89da1.png?auto=webp&s=41f1e6006fea0c5b6ef710e27233642a3ed8f10d)"
      ]
    },
    {
      "cell_type": "markdown",
      "metadata": {
        "id": "tULQGBWlo-6g"
      },
      "source": [
        "# POO: Why?"
      ]
    },
    {
      "cell_type": "markdown",
      "metadata": {
        "id": "dYErDPokpJYi"
      },
      "source": [
        "Programação Orientada a Objetos (OOP) é um paradigma de programação que usa 'objetos' - que são instâncias de 'classes' - para projetar aplicações e programas de computador. Cada objeto é uma entidade que possui um estado (representado por atributos ou propriedades) e comportamentos (representados por métodos ou funções). OOP é útil e amplamente usado devido a várias razões:\n",
        "\n",
        "- Modularidade: OOP permite que você divida seu software em partes menores (ou módulos) que podem ser desenvolvidas e testadas de forma independente. Isso torna o desenvolvimento e a manutenção do software mais gerenciáveis.\n",
        "- Reusabilidade: As classes podem ser reutilizadas em diferentes partes do software, ou até mesmo em diferentes softwares. Isso economiza tempo e esforço de desenvolvimento.\n",
        "- Manutenção: Como o OOP é modular e reutilizável, é mais fácil de manter. Mudanças em uma parte do software têm menos chances de afetar outras partes.\n",
        "- Abstração: O OOP permite que você esconda detalhes de implementação complexos atrás de uma interface simples. Isso torna o software mais fácil de usar e entender.\""
      ]
    },
    {
      "cell_type": "markdown",
      "metadata": {
        "id": "OdWVSAZmpbeV"
      },
      "source": [
        "# POO: Comparisons"
      ]
    },
    {
      "cell_type": "markdown",
      "metadata": {
        "id": "Xs8-knSophTR"
      },
      "source": [
        "A programação orientada a objetos é apenas um dos muitos paradigmas de programação. Outros exemplos notáveis incluem a programação procedural e a programação funcional.\n",
        "- **Programação Procedural**: Este paradigma de programação é centrado em procedimentos ou funções, e dados são passados de uma função para outra. Em contraste, no OOP, dados e funções são agrupados.\n",
        "- **Programação Funcional**: Este paradigma evita mudar o estado e dados mutáveis. Em contraste, OOP agrupa estado (dados) e comportamento e permite a mutação do estado.\n",
        "\n",
        "Cada paradigma tem seus próprios usos e vantagens, e muitas linguagens modernas, incluindo Python, permitem que você use uma mistura de paradigmas. A escolha do paradigma depende de vários fatores, incluindo o problema que você está tentando resolver, a arquitetura do sistema, as preferências da equipe e outros."
      ]
    },
    {
      "cell_type": "markdown",
      "metadata": {
        "id": "SnyqTfHeqHJs"
      },
      "source": [
        "# Declarando classes: Começando do começo"
      ]
    },
    {
      "cell_type": "code",
      "execution_count": null,
      "metadata": {
        "id": "fPkjagXLqJtd"
      },
      "outputs": [],
      "source": [
        "class Pessoa():\n",
        "  pass\n",
        "\t\t# Atributos e métodos da classe"
      ]
    },
    {
      "cell_type": "markdown",
      "metadata": {
        "id": "f0GlzrGoqOxy"
      },
      "source": [
        "Como vimos acima, para declarar uma classe no Python, utilizamos a palavra reservada **class** seguido do nome desta classe.\n",
        "\n",
        "**No Python, todas as classes devem, por boas práticas, possuir nomes que comecem com letra maiúscula e, caso sejam compostos, a primeira letra de cada palavra deve ser maiúscula, o que chamamos de formato CamelCase:**"
      ]
    },
    {
      "cell_type": "code",
      "execution_count": null,
      "metadata": {
        "id": "i7ik-jLPqT3p"
      },
      "outputs": [],
      "source": [
        "class PessoaFisica():\n",
        "  pass\n",
        "    # Atributos e métodos da classe"
      ]
    },
    {
      "cell_type": "markdown",
      "metadata": {
        "id": "43zJBu8EqbHu"
      },
      "source": [
        "# Criando **construtor** da classe"
      ]
    },
    {
      "cell_type": "markdown",
      "metadata": {
        "id": "41aMMciIqhiz"
      },
      "source": [
        "Uma classe é representada por **atributos e métodos**. Os atributos de uma classe representam as características que esta classe possui, já os métodos representam o comportamento da classe.\n",
        "\n",
        "Para declarar um atributo em uma classe no Python é bem simples, basta definir o nome do atributo no método especial chamado __init__, este método define o construtor da classe, ou seja, é onde definimos como uma nova pessoa será criada em nosso programa.\n",
        "\n",
        "Para definir os atributos de uma classe em seu construtor, basta passá-los como parâmetro, como podemos ver abaixo:"
      ]
    },
    {
      "cell_type": "code",
      "execution_count": null,
      "metadata": {
        "id": "qcA5a3syqnHq"
      },
      "outputs": [],
      "source": [
        "class Pessoa:\n",
        "    def __init__(self, nome, sexo, cpf, boletos):\n",
        "        self.nome = nome\n",
        "        self.sexo = sexo\n",
        "        self.cpf = cpf\n",
        "        self.boletos = boletos"
      ]
    },
    {
      "cell_type": "markdown",
      "metadata": {
        "id": "3_MbK4oiqq5v"
      },
      "source": [
        "Agora, estamos indicando que toda pessoa que for criada em nosso programa e que utilize como base a classe Pessoa deverá possuir um nome, sexo e cpf."
      ]
    },
    {
      "cell_type": "markdown",
      "metadata": {
        "id": "DQZp3zpqqwXy"
      },
      "source": [
        "# Instanciando objetos"
      ]
    },
    {
      "cell_type": "markdown",
      "metadata": {
        "id": "thH7lRlyq0SY"
      },
      "source": [
        "Como vimos anteriormente, as classes representam a estrutura de um elemento no mundo real, porém ela é apenas o modelo destes elementos.\n",
        "\n",
        "IMPORTANTE: **Sempre que precisamos criar “algo” com base em uma classe, dizemos que estamos “instanciando objetos”. O ato de instanciar um objeto significa que estamos criando a representação de uma classe em nosso programa.**\n",
        "\n",
        "Para instanciar um objeto no Python com base em uma classe previamente declarada, basta indicar a classe que desejamos utilizar como base e, caso possua, informar os valores referentes aos seus atributos, como podemos ver abaixo:\n",
        "\n"
      ]
    },
    {
      "cell_type": "code",
      "execution_count": null,
      "metadata": {
        "id": "ECdHM51Cq9w_"
      },
      "outputs": [],
      "source": [
        "class Pessoa:\n",
        "    def __init__(self, nome, sexo, cpf):\n",
        "        self.nome = nome\n",
        "        self.sexo = sexo\n",
        "        self.cpf = cpf\n",
        "\n",
        "if __name__ == \"__main__\":\n",
        "    pessoa1 = Pessoa(\"João\", \"M\", \"123456\")\n",
        "    print(pessoa1.nome)"
      ]
    },
    {
      "cell_type": "markdown",
      "metadata": {
        "id": "jNPOOeAfrLcv"
      },
      "source": [
        "# Declarando métodos\n"
      ]
    },
    {
      "cell_type": "markdown",
      "metadata": {
        "id": "bVBeElZorQiS"
      },
      "source": [
        "Como vimos anteriormente, uma classe possui atributos (que definem suas características) e métodos (que definem seus comportamentos).\n",
        "\n",
        "Imagine que possuímos um atributo ativo na classe Pessoa. Toda pessoa criada em nosso sistema é inicializado como ativo, porém, imagine que queremos alterar o valor deste atributo e, assim, “desativar” a pessoa em nosso sistema e, além disso, exibir uma mensagem de que a pessoa foi “desativada com sucesso”.\n",
        "\n",
        "Para isso, precisamos definir um comportamento para essa pessoa, assim, agora, ela poderá ser “desativada”.\n",
        "\n",
        "Sendo assim, precisamos definir um **método** chamado **“desativar”** para criar este comportamento na classe Pessoa, como podemos ver abaixo:"
      ]
    },
    {
      "cell_type": "code",
      "execution_count": null,
      "metadata": {
        "colab": {
          "base_uri": "https://localhost:8080/"
        },
        "id": "z7r4DytGrNEk",
        "outputId": "15d01798-2460-4aa4-fafa-54e2ad37a8ab"
      },
      "outputs": [
        {
          "name": "stdout",
          "output_type": "stream",
          "text": [
            "A pessoa foi desativada com sucesso\n"
          ]
        }
      ],
      "source": [
        "class Pessoa:\n",
        "    def __init__(self, nome: str, sexo, cpf: str, ativo: bool):\n",
        "        self.nome = nome\n",
        "        self.sexo = sexo\n",
        "        self.cpf = cpf\n",
        "        self.ativo = ativo\n",
        "\n",
        "    def desativar(self):\n",
        "        self.ativo = False\n",
        "        print(\"A pessoa foi desativada com sucesso\")\n",
        "\n",
        "if __name__ == \"__main__\":\n",
        "    pessoa1 = Pessoa(\"João\", \"M\", \"123456\", False)\n",
        "    pessoa1.desativar()"
      ]
    },
    {
      "cell_type": "code",
      "execution_count": null,
      "metadata": {
        "id": "ZvHycI9xc5Q9"
      },
      "outputs": [],
      "source": [
        "# pessoa1 é o nosso objeto\n",
        "# estamos instânciando a classe Pessoa\n",
        "# estamos atribuindo umm valor à variavel pessoa1"
      ]
    },
    {
      "cell_type": "markdown",
      "metadata": {
        "id": "mWgrLKt6rang"
      },
      "source": [
        "Para criarmos este “comportamento” na classe Pessoa, utilizamos a palavra reservada def, que indica que estamos criando um método da classe, além do nome do método e seus atributos, caso possuam.\n",
        "\n",
        "Depois disso, é só definir o comportamento que este método irá realizar. Neste caso, o método vai alterar o valor do atributo “ativo” para “False” e imprimir a mensagem “A pessoa foi desativada com sucesso”"
      ]
    },
    {
      "cell_type": "markdown",
      "metadata": {
        "id": "N9SiG0r7rj4l"
      },
      "source": [
        "# Declarando propriedades\n"
      ]
    },
    {
      "cell_type": "markdown",
      "metadata": {
        "id": "xbHL07ODrpzq"
      },
      "source": [
        "Aparentemente o código acima funciona normalmente. Porém, temos um pequeno problema com o atributo “ativo”: ele é acessível para todo mundo. Ou seja, mesmo possuindo o método “desativar”, é possível alterar o valor do atributo “ativo” sem qualquer problema:"
      ]
    },
    {
      "cell_type": "markdown",
      "metadata": {
        "id": "plzLvhJTrutR"
      },
      "source": [
        "![](https://dkrn4sk0rn31v.cloudfront.net/uploads/2021/02/Declarando-propriedades-em-Python.png)"
      ]
    },
    {
      "cell_type": "markdown",
      "metadata": {
        "id": "liULzIeJr1iN"
      },
      "source": [
        "Este comportamento do nosso programa dá brechas para que um usuário possa ser ativado ou desativado sem passar pelo método responsável por isso. Por isso, para corrigir este problema, devemos recorrer a um pilar importantíssimo da Orientação à Objetos: **o encapsulamento.**\n",
        "\n",
        "Basicamente, o encapsulamento visa definir o que pode ou não ser acessado de forma externa da classe.\n",
        "\n",
        "Existem três tipos de atributos de visibilidade nas linguagens orientadas a objetos, que são:\n",
        "\n",
        "- Public: Atributos e métodos definidos como públicos poderão ser invocados, acessados e modificados através de qualquer lugar do projeto;\n",
        "- Private: Atributos e métodos definidos como privados só poderão ser invocados, acessados e modificados somente por seu próprio objeto.\n",
        "- Protected: Atributos e métodos definidos como protegidos só poderão ser invocados, acessados e modificados por classes que herdam de outras classes através do conceito de Herança, visto na última aula. Sendo assim, apenas classes “filhas” poderão acessar métodos e atributos protegidos."
      ]
    },
    {
      "cell_type": "markdown",
      "metadata": {
        "id": "Tw7vz2l7r_z4"
      },
      "source": [
        "Para definir um atributo público, não há necessidade de realizar nenhuma alteração, por padrão, todos os atributos e métodos criados no Python são definidos com este nível de visibilidade.\n",
        "\n",
        "**Já se precisarmos definir um atributo como privado, adicionamos dois underlines (__) antes do nome do atributo ou método:**"
      ]
    },
    {
      "cell_type": "code",
      "execution_count": null,
      "metadata": {
        "id": "q1XcChYesE6S"
      },
      "outputs": [],
      "source": [
        "class Pessoa:\n",
        "    def __init__(self, nome, sexo, cpf, ativo):\n",
        "        self.nome = nome\n",
        "        self.sexo = sexo\n",
        "        self.cpf = cpf\n",
        "        self.__ativo = ativo\n",
        "\n",
        "    def desativar(self):\n",
        "        self.__ativo = False\n",
        "        print(\"A pessoa foi desativada com sucesso\")\n",
        "\n",
        "if __name__ == \"__main__\":\n",
        "    pessoa1 = Pessoa(\"João\", \"M\", \"123456\", True)\n",
        "    pessoa1.desativar()\n",
        "    pessoa1.ativo = True\n",
        "    print(pessoa1.ativo)\n"
      ]
    },
    {
      "cell_type": "markdown",
      "metadata": {
        "id": "mqk_cRJXsPFg"
      },
      "source": [
        "Porém, isso é apenas uma “convenção” do Python, ou seja, mesmo definindo o atributo com visibilidade privada (utilizando dois underlines antes de seu nome), ele poderá ser acessado de fora da classe."
      ]
    },
    {
      "cell_type": "markdown",
      "metadata": {
        "id": "GfRTBEOysW1u"
      },
      "source": [
        "Isso ocorre porquê estamos falando de “convenções”, ou seja, padrões que devem ser seguidos por desenvolvedores Python.\n",
        "\n",
        "Porém, caso precisemos acessar os atributos privados de uma classe, o Python oferece um mecanismo para construção de propriedades em uma classe e, dessa forma, melhorar a forma de encapsulamento dos atributos presentes. É comum que, quando queremos obter ou alterar os valores de um atributo, criamos métodos getters e setters para este atributo:"
      ]
    },
    {
      "cell_type": "code",
      "execution_count": null,
      "metadata": {
        "id": "orNyYpSRsYXi"
      },
      "outputs": [],
      "source": [
        "class Pessoa:\n",
        "    def __init__(self, nome, sexo, cpf, ativo):\n",
        "        self.__nome = nome\n",
        "        self.__sexo = sexo\n",
        "        self.__cpf = cpf\n",
        "        self.__ativo = ativo\n",
        "\n",
        "    def desativar(self):\n",
        "        self.__ativo = False\n",
        "        print(\"A pessoa foi desativada com sucesso\")\n",
        "\n",
        "    def get_nome(self):\n",
        "        return self.__nome\n",
        "\n",
        "    def set_nome(self, nome):\n",
        "        self.__nome = nome\n",
        "\n",
        "if __name__ == \"__main__\":\n",
        "    pessoa1 = Pessoa(\"João\", \"M\", \"123456\", True)\n",
        "    pessoa1.desativar()\n",
        "    pessoa1.ativo = True\n",
        "    print(pessoa1.ativo)\n",
        "\n",
        "    # Utilizando geters e setters\n",
        "    pessoa1.set_nome(\"José\")\n",
        "    print(pessoa1.get_nome())"
      ]
    },
    {
      "cell_type": "markdown",
      "metadata": {
        "id": "s-BmzKiysmUD"
      },
      "source": [
        "Porém, ao tentar acessar o valor do atributo nome presente na classe, fica evidente que estamos obtendo esse dado através de um método. Pensando nisso, o time de desenvolvimento criou as Properties para prover um meio mais “elegante” para obter e enviar novos dados aos atributos de uma classe:"
      ]
    },
    {
      "cell_type": "code",
      "execution_count": null,
      "metadata": {
        "id": "l5e6A-UfsoK9"
      },
      "outputs": [],
      "source": [
        "class Pessoa:\n",
        "  def __init__(self, nome, sexo, cpf, ativo):\n",
        "        self.__nome = nome\n",
        "        self.__sexo = sexo\n",
        "        self.__cpf = cpf\n",
        "        self.__ativo = ativo\n",
        "\n",
        "  def desativar(self):\n",
        "        self.__ativo = False\n",
        "        print(\"A pessoa foi desativada com sucesso\")\n",
        "\n",
        "  def get_nome(self):\n",
        "        return self.__nome\n",
        "\n",
        "  def set_nome(self, nome):\n",
        "        self.__nome = nome\n",
        "\n",
        "  @property\n",
        "  def nome(self):\n",
        "        return self.__nome\n",
        "\n",
        "  @nome.setter\n",
        "  def nome(self, nome):\n",
        "        self.__nome = nome\n",
        "\n",
        "if __name__ == \"__main__\":\n",
        "    pessoa1 = Pessoa(\"João\", \"M\", \"123456\", True)\n",
        "    pessoa1.desativar()\n",
        "    pessoa1.ativo = True\n",
        "    print(pessoa1.ativo)\n",
        "\n",
        "\t\t# Utilizando geters e setters\n",
        "    pessoa1.set_nome(\"José\")\n",
        "    print(pessoa1.get_nome())\n",
        "\n",
        "    # Utilizando properties\n",
        "    pessoa1.nome = \"José\"\n",
        "    print(pessoa1.nome)"
      ]
    },
    {
      "cell_type": "markdown",
      "metadata": {
        "id": "xRJtVxHmokj9"
      },
      "source": [
        "# Why do we use 'self'?"
      ]
    },
    {
      "cell_type": "markdown",
      "metadata": {
        "id": "vqVcl9w0oqUT"
      },
      "source": [
        "O self em Python é uma referência ao objeto instanciado da classe. Ele é o primeiro parâmetro que passamos ao definir os métodos de uma classe e é usado para acessar variáveis e métodos associados ao objeto da classe.\n",
        "\n",
        "Por exemplo, digamos que você tem uma classe Carro e quer criar um método para definir a cor do carro. O código seria algo assim:"
      ]
    },
    {
      "cell_type": "code",
      "execution_count": null,
      "metadata": {
        "id": "4PcWDlc8ou2T"
      },
      "outputs": [],
      "source": [
        "class Carro:\n",
        "    def __init__(self, marca, modelo):\n",
        "        self.marca = marca\n",
        "        self.modelo = modelo\n",
        "\n",
        "    def definir_cor(self, cor):\n",
        "        self.cor = cor"
      ]
    },
    {
      "cell_type": "markdown",
      "metadata": {
        "id": "8_blyF38oztW"
      },
      "source": [
        "Nesse exemplo, self é usado para se referir ao objeto específico de Carro que está chamando o método definir_cor. Quando você cria um objeto de Carro e chama definir_cor, o self permite que você modifique a cor daquele objeto específico, e não de todos os objetos de Carro.\n",
        "\n",
        "Em suma, self é usado para distinguir entre métodos e atributos de instância de uma classe (aqueles que pertencem a um objeto específico) e métodos e atributos de classe (aqueles que pertencem à classe em geral)."
      ]
    },
    {
      "cell_type": "markdown",
      "metadata": {
        "id": "IDCf6kb5o2c1"
      },
      "source": [
        "# Examples"
      ]
    },
    {
      "cell_type": "code",
      "execution_count": null,
      "metadata": {
        "colab": {
          "base_uri": "https://localhost:8080/"
        },
        "id": "Pds0saf5nQpv",
        "outputId": "b2c063d8-98bb-4385-8730-3749f57e6435"
      },
      "outputs": [
        {
          "name": "stdout",
          "output_type": "stream",
          "text": [
            "Honda\n",
            "Civic 2008\n",
            "Azul\n",
            "blabla\n"
          ]
        }
      ],
      "source": [
        "# Definindo a classe Carro\n",
        "\n",
        "class Carro:\n",
        "    def __init__(self, marca, modelo, cor, qnt_portas: int):  # Método construtor\n",
        "        self.marca = marca\n",
        "        self.modelo = modelo\n",
        "        self.cor = cor\n",
        "        self.qnt_portas = qnt_portas\n",
        "\n",
        "meu_carro = Carro('Honda', 'Civic 2008', 'Azul', )  # Instanciando um objeto da classe Carro\n",
        "print(meu_carro.marca)\n",
        "print(meu_carro.modelo)\n",
        "print(meu_carro.cor)\n",
        "print(meu_carro.qnt_portas)"
      ]
    },
    {
      "cell_type": "code",
      "execution_count": null,
      "metadata": {
        "colab": {
          "base_uri": "https://localhost:8080/"
        },
        "id": "AGzawRjJoynG",
        "outputId": "a85be7f3-a31b-42cf-82c7-bf58751b9e7e"
      },
      "outputs": [
        {
          "name": "stdout",
          "output_type": "stream",
          "text": [
            "Chevrolet\n",
            "Corsa\n",
            "Amarelo\n",
            "2\n"
          ]
        }
      ],
      "source": [
        "meu_carro = Carro('Chevrolet', 'Corsa', 'Amarelo', '2')\n",
        "print(meu_carro.marca)\n",
        "print(meu_carro.modelo)\n",
        "print(meu_carro.cor)\n",
        "print(meu_carro.qnt_portas)"
      ]
    },
    {
      "cell_type": "code",
      "execution_count": null,
      "metadata": {
        "colab": {
          "base_uri": "https://localhost:8080/"
        },
        "id": "ZOhPCvzUnb04",
        "outputId": "35040068-d780-4479-a586-3bb4f14e6ae5"
      },
      "outputs": [
        {
          "name": "stdout",
          "output_type": "stream",
          "text": [
            "BEEP!\n",
            "Bling Bling!\n"
          ]
        }
      ],
      "source": [
        "# 2. Herança e Polimorfismo:\n",
        "\n",
        "class Veiculo:\n",
        "    def __init__(self, marca, modelo):\n",
        "        self.marca = marca\n",
        "        self.modelo = modelo\n",
        "\n",
        "class Carro(Veiculo):  # Carro herda de Veiculo\n",
        "    def buzinar(self):\n",
        "        return 'BEEP!'\n",
        "\n",
        "class Bicicleta(Veiculo):  # Bicicleta herda de Veiculo\n",
        "    def buzinar(self):\n",
        "        return 'Bling Bling!'\n",
        "\n",
        "meu_carro = Carro('Toyota', 'Corolla')\n",
        "minha_bike = Bicicleta('Giant', 'Escape 3')\n",
        "\n",
        "print(meu_carro.buzinar())  # Saída: BEEP!\n",
        "print(minha_bike.buzinar())  # Saída: Bling Bling!"
      ]
    },
    {
      "cell_type": "code",
      "execution_count": null,
      "metadata": {
        "id": "fCDMMBkEnfJh"
      },
      "outputs": [],
      "source": [
        "# 3. Encapsulamento:\n",
        "\n",
        "class ContaBancaria:\n",
        "    def __init__(self, titular, saldo=0):\n",
        "        self.__titular = titular  # atributo privado\n",
        "        self.__saldo = saldo  # atributo privado\n",
        "\n",
        "    def depositar(self, valor):\n",
        "        self.__saldo += valor\n",
        "\n",
        "    def sacar(self, valor):\n",
        "        if valor <= self.__saldo:\n",
        "            self.__saldo -= valor\n",
        "        else:\n",
        "            print(\"Saldo insuficiente\")\n",
        "\n",
        "    def get_saldo(self):  # getter para saldo\n",
        "        return self.__saldo\n",
        "\n",
        "conta = ContaBancaria('João', 100)\n",
        "conta.depositar(50)\n",
        "print(conta.get_saldo())  # Saída: 150"
      ]
    },
    {
      "cell_type": "markdown",
      "metadata": {
        "id": "ATPSn9yzuiyf"
      },
      "source": [
        "# Vamos praticar um pouco de Python & OOP"
      ]
    },
    {
      "cell_type": "markdown",
      "metadata": {
        "id": "WoXFoXDGvDvE"
      },
      "source": [
        "## Vamos tentar criar essas execuções simples com OOP?"
      ]
    },
    {
      "cell_type": "markdown",
      "metadata": {},
      "source": [
        "## 1 - Crie uma classe Carro:\n",
        "\n",
        "- Adicione atributos como modelo, cor, ano, e preço.\n",
        "- Implemente métodos para exibir informações do carro e calcular o preço com desconto."
      ]
    },
    {
      "cell_type": "code",
      "execution_count": null,
      "metadata": {},
      "outputs": [],
      "source": []
    },
    {
      "cell_type": "markdown",
      "metadata": {},
      "source": [
        "\n",
        "## 2 - Desenvolva uma classe ContaBancaria:\n",
        "\n",
        "- Inclua atributos como número da conta, titular e saldo.\n",
        "- Forneça métodos para depositar, sacar e exibir o saldo.\n"
      ]
    },
    {
      "cell_type": "code",
      "execution_count": null,
      "metadata": {},
      "outputs": [],
      "source": []
    },
    {
      "cell_type": "markdown",
      "metadata": {},
      "source": [
        "## 3 - Herança com animais:\n",
        "\n",
        "- Crie uma classe mãe Animal com atributos como nome e idade.\n",
        "- Derive classes específicas como Cachorro e Gato.\n",
        "- Adicione métodos que são específicos para cada tipo de animal.\n"
      ]
    },
    {
      "cell_type": "code",
      "execution_count": null,
      "metadata": {},
      "outputs": [],
      "source": []
    },
    {
      "cell_type": "markdown",
      "metadata": {
        "id": "5PP4FJ6punxc"
      },
      "source": [
        "\n",
        "\n",
        "## Encapsulamento:\n",
        "\n",
        "- Crie uma classe Pessoa com atributos como nome, idade e número de telefone.\n",
        "- Encapsule os atributos usando métodos getters e setters.\n",
        "\n",
        "## Polimorfismo:\n",
        "\n",
        "- Crie uma interface FormaGeometrica com métodos como calcularArea e calcularPerimetro.\n",
        "- Implemente classes como Circulo, Quadrado e Triangulo que implementam essa interface.\n",
        "\n",
        "## Relacionamento entre classes:\n",
        "\n",
        "- Crie uma classe Estudante e uma classe Curso.\n",
        "- Estabeleça um relacionamento onde um curso pode ter vários estudantes.\n",
        "\n",
        "## Sistema de biblioteca:\n",
        "\n",
        "- Crie classes para representar Livro, Autor e Biblioteca.\n",
        "- Relacione essas classes para que seja possível saber quais autores escreveram quais livros, e quantos exemplares a biblioteca possui.\n",
        "\n",
        "## Sistema de funcionários:\n",
        "\n",
        "- Crie classes para representar Empregado, Gerente e CEO.\n",
        "- Use herança para representar a relação entre essas classes."
      ]
    }
  ],
  "metadata": {
    "colab": {
      "provenance": []
    },
    "kernelspec": {
      "display_name": "Python 3",
      "name": "python3"
    },
    "language_info": {
      "name": "python"
    }
  },
  "nbformat": 4,
  "nbformat_minor": 0
}
